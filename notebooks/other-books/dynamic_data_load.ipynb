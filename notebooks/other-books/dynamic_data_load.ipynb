{
 "cells": [
  {
   "cell_type": "code",
   "execution_count": null,
   "id": "1ac6daaa",
   "metadata": {},
   "outputs": [],
   "source": [
    "import os\n",
    "import pandas as pd\n",
    "\n",
    "import warnings\n",
    "\n",
    "warnings.filterwarnings('ignore', category=pd.errors.SettingWithCopyWarning)\n",
    "warnings.filterwarnings('ignore', category=FutureWarning)"
   ]
  },
  {
   "cell_type": "code",
   "execution_count": null,
   "id": "f3bba435",
   "metadata": {},
   "outputs": [],
   "source": [
    "FOLDER_PATH = './ORIGINAL-DATA/datasets'\n",
    "master_df = pd.DataFrame()"
   ]
  },
  {
   "cell_type": "code",
   "execution_count": null,
   "id": "a6a0b174",
   "metadata": {},
   "outputs": [],
   "source": [
    "for file_name in os.listdir(FOLDER_PATH):\n",
    "\n",
    "    if file_name.endswith('.xlsx') or file_name.endswith('.xls'):\n",
    "\n",
    "        file_path = os.path.join(FOLDER_PATH, file_name)\n",
    "        \n",
    "        print(f'Processing {file_name} : {file_path}')\n",
    "\n",
    "        temp_df = pd.read_excel(file_path)\n",
    "\n",
    "        master_df = pd.concat([master_df, temp_df], ignore_index=True)\n",
    "\n",
    "        print(f'{file_name} successfully appended')"
   ]
  },
  {
   "cell_type": "code",
   "execution_count": null,
   "id": "a5c66a69",
   "metadata": {},
   "outputs": [],
   "source": [
    "print('Final Aggregrated Dataset: ')\n",
    "print()\n",
    "print(master_df)"
   ]
  }
 ],
 "metadata": {
  "kernelspec": {
   "display_name": "Python 3",
   "language": "python",
   "name": "python3"
  },
  "language_info": {
   "codemirror_mode": {
    "name": "ipython",
    "version": 3
   },
   "file_extension": ".py",
   "mimetype": "text/x-python",
   "name": "python",
   "nbconvert_exporter": "python",
   "pygments_lexer": "ipython3",
   "version": "3.10.0"
  }
 },
 "nbformat": 4,
 "nbformat_minor": 5
}
